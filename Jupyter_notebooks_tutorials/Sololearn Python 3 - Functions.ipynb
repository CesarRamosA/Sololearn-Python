{
 "cells": [
  {
   "cell_type": "markdown",
   "id": "2b2a7c3e",
   "metadata": {},
   "source": [
    "\n",
    "# Sololearn Python tutorial 3\n"
   ]
  },
  {
   "cell_type": "markdown",
   "id": "697cb97e",
   "metadata": {},
   "source": [
    "\n",
    "Some of the commands from 'Sololearn' app Python tutorial are shown here\n"
   ]
  },
  {
   "cell_type": "code",
   "execution_count": 1,
   "id": "c1ce3ef3",
   "metadata": {},
   "outputs": [],
   "source": [
    "import math"
   ]
  },
  {
   "cell_type": "markdown",
   "id": "a4ea49fe",
   "metadata": {},
   "source": [
    "\n",
    "## Functions\n"
   ]
  },
  {
   "cell_type": "code",
   "execution_count": null,
   "id": "6f25b890",
   "metadata": {},
   "outputs": [],
   "source": [
    "#print(), range(), str(), etc are functions\n",
    "#Function arguments are separated by commas"
   ]
  },
  {
   "cell_type": "code",
   "execution_count": 2,
   "id": "c6553be5",
   "metadata": {},
   "outputs": [
    {
     "name": "stdout",
     "output_type": "stream",
     "text": [
      "5\n",
      "10\n",
      "some text some text \n",
      "20\n"
     ]
    }
   ],
   "source": [
    "nums = [23, 16, 10, 8, 11]\n",
    "print(len(nums)) #len() function gives the number of elements\n",
    "\n",
    "#practice exercise\n",
    "string = \"some text \"\n",
    "print(len(string))\n",
    "string *= 2\n",
    "print(string)\n",
    "print(len(string))"
   ]
  },
  {
   "cell_type": "code",
   "execution_count": 3,
   "id": "9d6405d4",
   "metadata": {},
   "outputs": [
    {
     "name": "stdout",
     "output_type": "stream",
     "text": [
      "[1, 2, 3, 231, 3, 4]\n",
      "['Python', 'is', 'fun', '!']\n"
     ]
    }
   ],
   "source": [
    "list1 = [1, 2, 3, 231, 3]\n",
    "list1.append(4) #.append() adds elements at the end of a list\n",
    "print(list1)\n",
    "\n",
    "words = ['Python', 'fun']\n",
    "words.insert(1, \"is\") #insert adds a new element to the list given a position\n",
    "words.insert(3, \"!\")\n",
    "print(words)"
   ]
  },
  {
   "cell_type": "code",
   "execution_count": 4,
   "id": "3e7bfb7c",
   "metadata": {},
   "outputs": [
    {
     "name": "stdout",
     "output_type": "stream",
     "text": [
      "2\n",
      "1\n",
      "0\n"
     ]
    }
   ],
   "source": [
    "letters = ['p', 'q', 'r', 's', 't', 'r'] \n",
    "print(letters.index('r')) #index searches for the first match of a list and returns the index\n",
    "print(letters.index('q'))\n",
    "print(letters.index('p'))\n",
    "#print(letters.index('z')) #if not in the list, outputs an error"
   ]
  },
  {
   "cell_type": "code",
   "execution_count": 5,
   "id": "34cec1af",
   "metadata": {},
   "outputs": [
    {
     "name": "stdout",
     "output_type": "stream",
     "text": [
      "1\n",
      "231\n",
      "4\n",
      "[1, 2, 3, 3, 3, 4, 5, 3]\n",
      "[3, 5, 4, 3, 3, 3, 2, 1]\n"
     ]
    }
   ],
   "source": [
    "lista = [1, 2, 3, 231, 3, 3, 4, 5, 3]\n",
    "print(min(lista)) #min y max return the minimum and max calues of a list\n",
    "print(max(lista))\n",
    "\n",
    "print(lista.count(3)) #.count counts how many times an element is on a list\n",
    "\n",
    "lista.remove(231) #.remove removes the element from a list\n",
    "print(lista)\n",
    "\n",
    "lista.reverse() #inviert the numbers of a list\n",
    "print(lista)"
   ]
  },
  {
   "cell_type": "code",
   "execution_count": 6,
   "id": "f72a487a",
   "metadata": {},
   "outputs": [
    {
     "name": "stdout",
     "output_type": "stream",
     "text": [
      "3\n",
      "1\n",
      "4\n"
     ]
    }
   ],
   "source": [
    "#practice exercise\n",
    "lista = [8, 4, 2, 6]\n",
    "lista.remove(2) \n",
    "print(len(lista))\n",
    "print(lista.count(6))\n",
    "print(len(lista)+lista.count(6))"
   ]
  },
  {
   "cell_type": "code",
   "execution_count": 7,
   "id": "1086e143",
   "metadata": {},
   "outputs": [
    {
     "name": "stdout",
     "output_type": "stream",
     "text": [
      "Javier\n",
      "['Juan', 'Raul', 'Joel', 'Javier']\n"
     ]
    }
   ],
   "source": [
    "queue = ['Juan', 'Raul', 'Joel']\n",
    "queue.append(input()) #adds an input at the end of the list\n",
    "print(queue)"
   ]
  },
  {
   "cell_type": "code",
   "execution_count": 8,
   "id": "a2a18b52",
   "metadata": {},
   "outputs": [
    {
     "name": "stdout",
     "output_type": "stream",
     "text": [
      "4\n"
     ]
    }
   ],
   "source": [
    "#practice exercise\n",
    "nums = [2, 4, 8, 9, 5]\n",
    "nums.insert(1, 3)\n",
    "nums.remove(9)\n",
    "nums.insert(0, nums.count(8))\n",
    "print(nums[3])"
   ]
  },
  {
   "cell_type": "code",
   "execution_count": 9,
   "id": "60b0fa55",
   "metadata": {},
   "outputs": [
    {
     "name": "stdout",
     "output_type": "stream",
     "text": [
      "Numbers: 34, 91, 34\n",
      "7, 9, 5\n",
      "3, 12\n"
     ]
    }
   ],
   "source": [
    "nums = [34, 6, 91] #format adds values assigning places\n",
    "msg = \"Numbers: {2}, {1}, {2}\".format(nums[1], nums[2], nums[0])\n",
    "print(msg)\n",
    "\n",
    "string = \"{c}, {b}, {a}\".format(a = 5, b = 9, c = 7)\n",
    "print(string)\n",
    "\n",
    "a = \"{y}, {x}\".format(x = 12, y = 3)\n",
    "print(a)"
   ]
  },
  {
   "cell_type": "code",
   "execution_count": 10,
   "id": "662fb7d0",
   "metadata": {},
   "outputs": [
    {
     "name": "stdout",
     "output_type": "stream",
     "text": [
      "spam and eggs and ham\n",
      "['some', 'text', 'goes', 'here']\n",
      "Hello world\n",
      "THIS IS A SENTENCE\n",
      "an all cap sentence\n"
     ]
    }
   ],
   "source": [
    "x = \" and \".join([\"spam\", \"eggs\", \"ham\"]) #joins a list of strings using a string as a separator\n",
    "print(x)\n",
    "\n",
    "string = \"some text goes here\" #split is the opposite to join\n",
    "x = string.split(' ')  #space is to obtain the words as a list\n",
    "print(x)\n",
    "\n",
    "x = \"Hello me\"\n",
    "x = x.replace(\"me\", \"world\") #replaces a substring with another\n",
    "print(x)\n",
    "\n",
    "print(\"this is a sentence\" .upper()) #.upper changes to upper case\n",
    "print(\"AN ALL CAP SENTENCE\" .lower()) #.lower changes to lower case"
   ]
  },
  {
   "cell_type": "markdown",
   "id": "be655da9",
   "metadata": {},
   "source": [
    "\n",
    "## Making Your Own Functions\n"
   ]
  },
  {
   "cell_type": "code",
   "execution_count": 11,
   "id": "35128493",
   "metadata": {},
   "outputs": [
    {
     "name": "stdout",
     "output_type": "stream",
     "text": [
      "spam\n",
      "spam\n",
      "spam\n"
     ]
    }
   ],
   "source": [
    "def my_func():\n",
    "    print('spam')\n",
    "    print('spam')\n",
    "    print('spam')\n",
    "\n",
    "my_func()"
   ]
  },
  {
   "cell_type": "code",
   "execution_count": 12,
   "id": "bb92e812",
   "metadata": {},
   "outputs": [
    {
     "name": "stdout",
     "output_type": "stream",
     "text": [
      "Bob\n",
      "Welcome, Bob\n"
     ]
    }
   ],
   "source": [
    "x = str(input())\n",
    "\n",
    "def welcome():\n",
    "    print(\"Welcome, \" + x)\n",
    "    \n",
    "welcome()"
   ]
  },
  {
   "cell_type": "markdown",
   "id": "2c8cd89b",
   "metadata": {},
   "source": [
    "\n",
    "## Function Arguments\n"
   ]
  },
  {
   "cell_type": "code",
   "execution_count": 13,
   "id": "c3322414",
   "metadata": {},
   "outputs": [
    {
     "name": "stdout",
     "output_type": "stream",
     "text": [
      "Word!\n",
      "Pal!\n",
      "Pana!\n"
     ]
    }
   ],
   "source": [
    "#functions can take arguments\n",
    "def exclamation(word):\n",
    "    print(word + '!')\n",
    "\n",
    "    \n",
    "exclamation('Word')\n",
    "exclamation('Pal')\n",
    "exclamation('Pana')"
   ]
  },
  {
   "cell_type": "code",
   "execution_count": 14,
   "id": "8d1c00ae",
   "metadata": {},
   "outputs": [
    {
     "name": "stdout",
     "output_type": "stream",
     "text": [
      "13\n",
      "13\n"
     ]
    }
   ],
   "source": [
    "def sum_twice(x, y):\n",
    "    print(x + y)\n",
    "    print(x + y)\n",
    "    \n",
    "sum_twice(5, 8)"
   ]
  },
  {
   "cell_type": "code",
   "execution_count": 15,
   "id": "4f7b2d9c",
   "metadata": {},
   "outputs": [
    {
     "name": "stdout",
     "output_type": "stream",
     "text": [
      "No\n"
     ]
    }
   ],
   "source": [
    "#if and loops can be used\n",
    "def even(x):\n",
    "    if x%2 == 0:\n",
    "        print(\"Yes\")\n",
    "    else:\n",
    "        print(\"No\")\n",
    "\n",
    "even(343)"
   ]
  },
  {
   "cell_type": "code",
   "execution_count": 16,
   "id": "e5b5bee3",
   "metadata": {},
   "outputs": [
    {
     "name": "stdout",
     "output_type": "stream",
     "text": [
      "$450.00\n",
      "====\n",
      "$450.00\n",
      "====\n"
     ]
    }
   ],
   "source": [
    "#practice exercise\n",
    "def printBill(x):\n",
    "    print('====')\n",
    "    print(x)\n",
    "    print('====')\n",
    "\n",
    "printBill(str(input()))"
   ]
  },
  {
   "cell_type": "code",
   "execution_count": 17,
   "id": "856104f0",
   "metadata": {},
   "outputs": [
    {
     "name": "stdout",
     "output_type": "stream",
     "text": [
      "A18\n"
     ]
    }
   ],
   "source": [
    "#practice exercise\n",
    "def msg(num, ch):\n",
    "    print(ch+str(num))\n",
    "    \n",
    "msg(18, 'A')"
   ]
  },
  {
   "cell_type": "markdown",
   "id": "fdde5500",
   "metadata": {},
   "source": [
    "\n",
    "## Returning from Functions\n"
   ]
  },
  {
   "cell_type": "code",
   "execution_count": 18,
   "id": "53941e94",
   "metadata": {},
   "outputs": [
    {
     "name": "stdout",
     "output_type": "stream",
     "text": [
      "6\n"
     ]
    }
   ],
   "source": [
    "def adding(x,y):\n",
    "    return( x + y )\n",
    "\n",
    "adding(2, 4)\n",
    "\n",
    "res = adding(2, 4)\n",
    "print(res)"
   ]
  },
  {
   "cell_type": "code",
   "execution_count": 19,
   "id": "80abef0e",
   "metadata": {},
   "outputs": [
    {
     "name": "stdout",
     "output_type": "stream",
     "text": [
      "7\n"
     ]
    }
   ],
   "source": [
    "def foo(x,y):\n",
    "    if x >= y:\n",
    "        return x\n",
    "    else:\n",
    "        return y\n",
    "\n",
    "x = foo(4, 7)\n",
    "print(x)"
   ]
  },
  {
   "cell_type": "code",
   "execution_count": 20,
   "id": "b980ce48",
   "metadata": {},
   "outputs": [
    {
     "name": "stdout",
     "output_type": "stream",
     "text": [
      "9\n"
     ]
    }
   ],
   "source": [
    "def add_numbers(x, y):\n",
    "    total = x + y\n",
    "    return total\n",
    "    print('This won\\'t be printed') #everything after the return is not executed\n",
    "\n",
    "print(add_numbers(4, 5))"
   ]
  },
  {
   "cell_type": "code",
   "execution_count": 21,
   "id": "e23e60ef",
   "metadata": {},
   "outputs": [
    {
     "name": "stdout",
     "output_type": "stream",
     "text": [
      "[12, 18]\n"
     ]
    }
   ],
   "source": [
    "def double(a, b):\n",
    "    return [a * 2, b * 2] #a list can be used when required\n",
    "\n",
    "x = double(6, 9)\n",
    "print(x)"
   ]
  },
  {
   "cell_type": "code",
   "execution_count": 22,
   "id": "1c0954f2",
   "metadata": {},
   "outputs": [
    {
     "name": "stdout",
     "output_type": "stream",
     "text": [
      "12\n"
     ]
    }
   ],
   "source": [
    "def calc(x, y):\n",
    "    return [x + y, x * y]\n",
    "\n",
    "res = calc(3, 4)\n",
    "print(res[1])"
   ]
  },
  {
   "cell_type": "code",
   "execution_count": 23,
   "id": "d4f39b03",
   "metadata": {},
   "outputs": [
    {
     "name": "stdout",
     "output_type": "stream",
     "text": [
      "range(0, 4)\n",
      "0\n",
      "0\n",
      "1\n",
      "3\n",
      "6\n"
     ]
    }
   ],
   "source": [
    "print(range(4)) #includes 0,1,2,3\n",
    "def sum1(x):\n",
    "    res = 0\n",
    "    for i in range(x):\n",
    "        print(res)\n",
    "        res+=i\n",
    "    return res\n",
    "\n",
    "print(sum1(4))"
   ]
  },
  {
   "cell_type": "markdown",
   "id": "d5a9d580",
   "metadata": {},
   "source": [
    "\n",
    "## Comments & Docstrings\n"
   ]
  },
  {
   "cell_type": "code",
   "execution_count": 24,
   "id": "657c7717",
   "metadata": {},
   "outputs": [
    {
     "name": "stdout",
     "output_type": "stream",
     "text": [
      "spam!\n"
     ]
    }
   ],
   "source": [
    "def shout(word):\n",
    "    #documentation string are similar to comments\n",
    "    #docstrings are kept during program runtime\n",
    "    \"\"\"\n",
    "    Print a word with an \n",
    "    exclamation mark following it \n",
    "    \"\"\"\n",
    "    print(word + \"!\")\n",
    "\n",
    "shout('spam')"
   ]
  },
  {
   "cell_type": "code",
   "execution_count": 25,
   "id": "e8de4b5a",
   "metadata": {},
   "outputs": [],
   "source": [
    "#practice exercise\n",
    "def foo():\n",
    "    \"\"\"\n",
    "    A\n",
    "    B\n",
    "    C\n",
    "    \"\"\"\n",
    "\n",
    "foo()"
   ]
  },
  {
   "cell_type": "code",
   "execution_count": 26,
   "id": "c47245af",
   "metadata": {},
   "outputs": [
    {
     "name": "stdout",
     "output_type": "stream",
     "text": [
      "0\n"
     ]
    }
   ],
   "source": [
    "#practice exercise\n",
    "def print_nums(x):\n",
    "    for i in range(x):\n",
    "        print(i)\n",
    "        return\n",
    "\n",
    "print_nums(10)"
   ]
  },
  {
   "cell_type": "code",
   "execution_count": 27,
   "id": "df78b0e7",
   "metadata": {},
   "outputs": [
    {
     "name": "stdout",
     "output_type": "stream",
     "text": [
      "3\n"
     ]
    }
   ],
   "source": [
    "#practice exercise\n",
    "def func(x):\n",
    "    res = 0\n",
    "    for i in range(x):\n",
    "        res += i\n",
    "    return res\n",
    "\n",
    "print(func(3))\n",
    "    "
   ]
  },
  {
   "cell_type": "code",
   "execution_count": 28,
   "id": "052fc6af",
   "metadata": {},
   "outputs": [
    {
     "name": "stdout",
     "output_type": "stream",
     "text": [
      "Hello! Thanks Sololearn for the tutorial!\n",
      "Sololearn\n",
      "Word found\n"
     ]
    }
   ],
   "source": [
    "text = input()\n",
    "word = input()\n",
    "def search(text, word):\n",
    "    if word in text:\n",
    "        print('Word found')\n",
    "        \n",
    "search(text, word)\n",
    "    \n",
    "    "
   ]
  }
 ],
 "metadata": {
  "kernelspec": {
   "display_name": "Python 3 (ipykernel)",
   "language": "python",
   "name": "python3"
  },
  "language_info": {
   "codemirror_mode": {
    "name": "ipython",
    "version": 3
   },
   "file_extension": ".py",
   "mimetype": "text/x-python",
   "name": "python",
   "nbconvert_exporter": "python",
   "pygments_lexer": "ipython3",
   "version": "3.9.7"
  }
 },
 "nbformat": 4,
 "nbformat_minor": 5
}
