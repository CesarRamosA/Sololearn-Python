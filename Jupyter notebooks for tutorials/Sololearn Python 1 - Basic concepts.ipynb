{
 "cells": [
  {
   "cell_type": "markdown",
   "id": "a24250ac",
   "metadata": {},
   "source": [
    "\n",
    "# Sololearn Python tutorial 1\n"
   ]
  },
  {
   "cell_type": "markdown",
   "id": "ff48a923",
   "metadata": {},
   "source": [
    "\n",
    "Some of the commands from 'Sololearn' app Python tutorial are shown here\n"
   ]
  },
  {
   "cell_type": "code",
   "execution_count": 1,
   "id": "1d20fe6a",
   "metadata": {},
   "outputs": [],
   "source": [
    "import math"
   ]
  },
  {
   "cell_type": "markdown",
   "id": "661b974c",
   "metadata": {},
   "source": [
    "\n",
    "## Basic concepts\n"
   ]
  },
  {
   "cell_type": "code",
   "execution_count": 2,
   "id": "3b266b54",
   "metadata": {},
   "outputs": [
    {
     "name": "stdout",
     "output_type": "stream",
     "text": [
      "3\n",
      "2\n",
      "0.3000000000000007\n"
     ]
    }
   ],
   "source": [
    "print(20 // 6) #Floor division, produces integer. Quotient of the division (integers or floats)\n",
    "print(20 % 6) #Modulo, remainder of a division (integers or floats)\n",
    "print(21.3 % 7)"
   ]
  },
  {
   "cell_type": "markdown",
   "id": "34a70360",
   "metadata": {},
   "source": [
    "\n",
    "## Strings\n"
   ]
  },
  {
   "cell_type": "code",
   "execution_count": 3,
   "id": "658da0fb",
   "metadata": {},
   "outputs": [
    {
     "name": "stdout",
     "output_type": "stream",
     "text": [
      "Skipping line like this \n",
      " \t and using tab like this\n",
      "I'm learning Python. It's easy! Newline is \\n :)\n",
      "Hiii there \r",
      "Stop\n"
     ]
    }
   ],
   "source": [
    "print(\"Skipping line like this \\n \\t and using tab like this\") #Print a string using '' or \"\"; \\n: new line, \\t: tab\n",
    "print('I\\'m learning Python. It\\'s easy! Newline is \\\\n :)') #\\: escape, for input special characters\n",
    "print(\"Hiii there \\rStop\") #\\r: carriage return, returns to the beggining of the line"
   ]
  },
  {
   "cell_type": "code",
   "execution_count": 4,
   "id": "325bfed7",
   "metadata": {},
   "outputs": [
    {
     "name": "stdout",
     "output_type": "stream",
     "text": [
      "This\n",
      "is \n",
      "a \n",
      "multiline. \n",
      "No need to escape quotes '' or \"\"!\n"
     ]
    }
   ],
   "source": [
    "#Using three quotes \"\"\" \"\"\" to format multiline text; quotes do not need to be escaped\n",
    "print(\"\"\"This\n",
    "is \n",
    "a \n",
    "multiline. \n",
    "No need to escape quotes '' or \"\"!\"\"\")"
   ]
  },
  {
   "cell_type": "code",
   "execution_count": 5,
   "id": "255cd688",
   "metadata": {},
   "outputs": [
    {
     "name": "stdout",
     "output_type": "stream",
     "text": [
      "Concatenation\n",
      "22\n",
      "\t YoYo\n",
      "or also \n",
      "\t YoYo\n"
     ]
    }
   ],
   "source": [
    "print(\"Conca\"+\"tenation\") #To concatenate strings, use +\n",
    "print(\"2\"+\"2\") #Numbers in a string format can be also concatenated\n",
    "\n",
    "#Strings can be multiplied by integers\n",
    "#String * string outputs an error\n",
    "print('\\t', 2 * \"Yo\" + \"\\nor also \\n\\t \" + \"Yo\" * 2) \n",
    "#Se pueden multiplicar strings por enteros. String * string es error"
   ]
  },
  {
   "cell_type": "markdown",
   "id": "6d3372dc",
   "metadata": {},
   "source": [
    "\n",
    "## Variables\n"
   ]
  },
  {
   "cell_type": "code",
   "execution_count": 6,
   "id": "95ed53d7",
   "metadata": {},
   "outputs": [
    {
     "name": "stdout",
     "output_type": "stream",
     "text": [
      "James\n"
     ]
    }
   ],
   "source": [
    "user = 'James' #You can assign a value to a variable using =, it can be integer, float, string, etc\n",
    "print(user) #Special symbols cannot be used in the name of the variable, just letters, numbers and _\n",
    "del user #Delets the variable value"
   ]
  },
  {
   "cell_type": "code",
   "execution_count": 8,
   "id": "4d3bc0a9",
   "metadata": {},
   "outputs": [
    {
     "name": "stdout",
     "output_type": "stream",
     "text": [
      "y\n",
      "Input is: y\n",
      "Enter your name: Cesar\n",
      "Your name is: Cesar\n"
     ]
    }
   ],
   "source": [
    "x = input() #Ask for an input and return it as an string\n",
    "print(\"Input is: \" + x)\n",
    "x = input(\"Enter your name: \") #A message can be shown to the user\n",
    "print(\"Your name is: \" + x)"
   ]
  },
  {
   "cell_type": "code",
   "execution_count": 10,
   "id": "e12e9449",
   "metadata": {},
   "outputs": [
    {
     "name": "stdout",
     "output_type": "stream",
     "text": [
      "Enter your age: 25\n",
      "Your age is:\n",
      "25\n",
      "Enter the first integer number: 45\n",
      "Enter the second integer number: 5\n",
      "The sum of the two numbers is: \n",
      "50\n"
     ]
    }
   ],
   "source": [
    "age = int(input(\"Enter your age: \")) #If string is not needed, you can change the type of the input\n",
    "print(\"Your age is:\")\n",
    "print(age)\n",
    "\n",
    "#Adding two integers\n",
    "x = input(\"Enter the first integer number: \")\n",
    "y = input(\"Enter the second integer number: \")\n",
    "z = int(x) + int(y)\n",
    "print(\"The sum of the two numbers is: \")\n",
    "print(z) #z is an integer"
   ]
  },
  {
   "cell_type": "code",
   "execution_count": 11,
   "id": "b509338b",
   "metadata": {},
   "outputs": [
    {
     "name": "stdout",
     "output_type": "stream",
     "text": [
      "Enter the first real number: 98.3\n",
      "Enter the second real number: 545.1\n",
      "The sum of the two numbers is: \n",
      "643.4\n",
      "Your rounded numbers are:\n",
      "98\n",
      "545\n"
     ]
    }
   ],
   "source": [
    "x = float(input(\"Enter the first real number: \")) #The number is inputed and converted in a float\n",
    "y = float(input(\"Enter the second real number: \"))\n",
    "z = x + y\n",
    "print(\"The sum of the two numbers is: \")\n",
    "print(z) #Here z is float\n",
    "print(\"Your rounded numbers are:\")\n",
    "\n",
    "#Float numbers are rounded by using the int() function\n",
    "print(int(x)) \n",
    "print(int(y))"
   ]
  },
  {
   "cell_type": "code",
   "execution_count": 12,
   "id": "674df655",
   "metadata": {},
   "outputs": [
    {
     "name": "stdout",
     "output_type": "stream",
     "text": [
      "Your age is: 34\n"
     ]
    }
   ],
   "source": [
    "age = 34\n",
    "print(\"Your age is: \" + str(age)) #A number can be concatenated when converted in a string"
   ]
  },
  {
   "cell_type": "code",
   "execution_count": 13,
   "id": "98aaf876",
   "metadata": {},
   "outputs": [
    {
     "name": "stdout",
     "output_type": "stream",
     "text": [
      "16\n",
      "16\n",
      "1\n",
      "spam\n",
      "spameggs\n",
      "hello\n",
      "hellohellohello\n"
     ]
    }
   ],
   "source": [
    "#In-place operators permit the equivalent use of x=x+3 and x+=3 and can be used with any operator\n",
    "x = 4\n",
    "x += 12 \n",
    "print(x) \n",
    "y = 4\n",
    "y = y + 12\n",
    "print(y)\n",
    "z = 21\n",
    "z %= 20\n",
    "print(z)\n",
    "\n",
    "a = \"spam\"\n",
    "print(a)\n",
    "a += \"eggs\"\n",
    "print (a)\n",
    "\n",
    "b = \"hello\"\n",
    "print(b)\n",
    "b *= 3\n",
    "print(b)"
   ]
  },
  {
   "cell_type": "markdown",
   "id": "fbeeac90",
   "metadata": {},
   "source": [
    "\n",
    "## Control flow\n"
   ]
  },
  {
   "cell_type": "code",
   "execution_count": 14,
   "id": "aafb48ed",
   "metadata": {},
   "outputs": [
    {
     "name": "stdout",
     "output_type": "stream",
     "text": [
      "True\n",
      "False\n"
     ]
    }
   ],
   "source": [
    "#A variable can have a boolean value\n",
    "my_boolean = True\n",
    "print(my_boolean)\n",
    "\n",
    "# == operator compares values\n",
    "print(2 == 3) "
   ]
  },
  {
   "cell_type": "code",
   "execution_count": 15,
   "id": "9a8fef0b",
   "metadata": {},
   "outputs": [
    {
     "name": "stdout",
     "output_type": "stream",
     "text": [
      "True\n",
      "True\n",
      "False\n",
      "True\n",
      "True\n"
     ]
    }
   ],
   "source": [
    "#We can also compare values using comparison operators\n",
    "x = 7 \n",
    "\n",
    "print(x != 8)\n",
    "print(x > 5)\n",
    "print(x < 2)\n",
    "print(x >= 7)\n",
    "print(x <= 7)"
   ]
  },
  {
   "cell_type": "code",
   "execution_count": 16,
   "id": "650990a9",
   "metadata": {},
   "outputs": [
    {
     "name": "stdout",
     "output_type": "stream",
     "text": [
      "False\n",
      "False\n",
      "True\n",
      "True\n"
     ]
    }
   ],
   "source": [
    "#Comparing strings lexicographically, i.e., by alphabetical order\n",
    "print('a' > 'b') \n",
    "print('Bob' >= 'Dave')\n",
    "print('z' >= 'w')\n",
    "print('wr' > 'wo')"
   ]
  },
  {
   "cell_type": "code",
   "execution_count": 17,
   "id": "4ef1ecbc",
   "metadata": {},
   "outputs": [
    {
     "name": "stdout",
     "output_type": "stream",
     "text": [
      "1\n",
      "0\n"
     ]
    }
   ],
   "source": [
    "#Booleans can be interpreted as 0 and 1\n",
    "x = (7 > 5)\n",
    "print(int(x))\n",
    "y = (7 >= 9)\n",
    "print(int(y))"
   ]
  },
  {
   "cell_type": "code",
   "execution_count": 18,
   "id": "7ac6d0b5",
   "metadata": {},
   "outputs": [
    {
     "name": "stdout",
     "output_type": "stream",
     "text": [
      "45\n",
      "x is greater than 5\n",
      "and between 5 and 47\n"
     ]
    }
   ],
   "source": [
    "#We can use a code with if and else using comparison operators\n",
    "x = int(input())\n",
    "if(x > 5):\n",
    "    print(\"x is greater than 5\")\n",
    "    if x <= 47:\n",
    "        print('and between 5 and 47')\n",
    "else:\n",
    "    if x == 5:\n",
    "        print('x is 5')\n",
    "    else:\n",
    "        if x <= 3:\n",
    "            print('x is between 3 and 5')\n",
    "        else:\n",
    "            print('x is lesser than 3') "
   ]
  },
  {
   "cell_type": "code",
   "execution_count": 19,
   "id": "0d74981c",
   "metadata": {},
   "outputs": [
    {
     "name": "stdout",
     "output_type": "stream",
     "text": [
      "3\n",
      "x is between 3 and 5\n"
     ]
    }
   ],
   "source": [
    "#elif can be used to shorten the code \n",
    "x = int(input()) \n",
    "if(x > 5): \n",
    "    print(\"x is greater than 5\") \n",
    "elif x <= 47: \n",
    "    if x <= 3: \n",
    "        print('x is between 3 and 5') \n",
    "    else:    \n",
    "        print('and between 5 and 47') \n",
    "elif x == 5: \n",
    "    print('x is 5') \n",
    "else: \n",
    "    print('x is lesser than 3')"
   ]
  },
  {
   "cell_type": "code",
   "execution_count": 20,
   "id": "4110bb7c",
   "metadata": {},
   "outputs": [
    {
     "name": "stdout",
     "output_type": "stream",
     "text": [
      "True\n",
      "False\n",
      "True\n",
      "false\n",
      "x between 0.5 and 2\n"
     ]
    }
   ],
   "source": [
    "#Logical operators like and, or can be used\n",
    "print(1 == 1 and 2 == 2) \n",
    "print(1 == 2 and 3 ==3)\n",
    "print(1 == 1 or 2 == 3) \n",
    "\n",
    "#and logical operators can be used in the if conditional\n",
    "if(1 == 1) and (2 == 3):\n",
    "    print('true')\n",
    "else:\n",
    "    print('false')\n",
    "    \n",
    "#Comparison conditions can be used as confitional\n",
    "x = 1\n",
    "if(0.5 < x < 2): \n",
    "    print('x between 0.5 and 2')    "
   ]
  },
  {
   "cell_type": "code",
   "execution_count": 21,
   "id": "036caa73",
   "metadata": {},
   "outputs": [
    {
     "name": "stdout",
     "output_type": "stream",
     "text": [
      "True\n"
     ]
    }
   ],
   "source": [
    "#not operator takes the argument and inverts it\n",
    "print(not 1 > 7)"
   ]
  },
  {
   "cell_type": "code",
   "execution_count": 22,
   "id": "a5e174bc",
   "metadata": {},
   "outputs": [
    {
     "name": "stdout",
     "output_type": "stream",
     "text": [
      "1 is odd\n",
      "2 is even\n",
      "3 is odd\n",
      "4 is even\n",
      "5 is odd\n",
      "Ready!\n",
      "Not break\n",
      "Not break\n",
      "Not break\n",
      "Break\n",
      "1\n",
      "2\n",
      "3\n",
      "Skipping 4\n",
      "5\n"
     ]
    }
   ],
   "source": [
    "#While loop can be used to make iterations, even with if statements\n",
    "i = 1\n",
    "while i <= 5:\n",
    "    if i % 2 == 0:\n",
    "        print(str(i) + ' is even')\n",
    "    else:\n",
    "        print(str(i) + ' is odd')\n",
    "    i += 1\n",
    "    \n",
    "print('Ready!')\n",
    "\n",
    "#Break can be used to exit the loop prematurely\n",
    "i = 1\n",
    "while True:\n",
    "    print('Not break')\n",
    "    i += 1\n",
    "    if i == 4:\n",
    "        print('Break')\n",
    "        break\n",
    "        \n",
    "#Continue takes you to the beginning of the cycle\n",
    "i = 0\n",
    "while i < 5:\n",
    "    i += 1\n",
    "    if(i == 4):\n",
    "        print('Skipping 4')\n",
    "        continue\n",
    "    print(i)"
   ]
  },
  {
   "cell_type": "code",
   "execution_count": 23,
   "id": "ceaa0f81",
   "metadata": {},
   "outputs": [
    {
     "name": "stdout",
     "output_type": "stream",
     "text": [
      "3\n",
      "2\n",
      "1\n",
      "2\n",
      "7\n",
      "200\n"
     ]
    }
   ],
   "source": [
    "#Five numbers are entered, if the number is bigger or equal to 3, total will be adding 100\n",
    "total = 0\n",
    "i = 0\n",
    "while i < 5:\n",
    "    i += 1\n",
    "    pas = int(input())\n",
    "    if pas >= 3:\n",
    "        total += 100\n",
    "\n",
    "print(total)"
   ]
  },
  {
   "cell_type": "code",
   "execution_count": 24,
   "id": "8ec78a92",
   "metadata": {
    "scrolled": true
   },
   "outputs": [
    {
     "name": "stdout",
     "output_type": "stream",
     "text": [
      "2\n",
      "6\n",
      "5\n",
      "87\n",
      "4\n",
      "400\n"
     ]
    }
   ],
   "source": [
    "#Five numbers are entered, if the number is bigger or equal to 3, total will be adding 100\n",
    "total = 0\n",
    "i = 0\n",
    "while i < 5:\n",
    "    i += 1\n",
    "    pas = int(input())\n",
    "    if pas < 3:\n",
    "        continue\n",
    "    else:\n",
    "        total += 100\n",
    "    \n",
    "print(total)"
   ]
  }
 ],
 "metadata": {
  "kernelspec": {
   "display_name": "Python 3 (ipykernel)",
   "language": "python",
   "name": "python3"
  },
  "language_info": {
   "codemirror_mode": {
    "name": "ipython",
    "version": 3
   },
   "file_extension": ".py",
   "mimetype": "text/x-python",
   "name": "python",
   "nbconvert_exporter": "python",
   "pygments_lexer": "ipython3",
   "version": "3.9.7"
  }
 },
 "nbformat": 4,
 "nbformat_minor": 5
}
