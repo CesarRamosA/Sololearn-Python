{
 "cells": [
  {
   "cell_type": "markdown",
   "id": "56c16a4e",
   "metadata": {},
   "source": [
    "\n",
    "# Sololearn Python tutorial 2\n"
   ]
  },
  {
   "cell_type": "markdown",
   "id": "c1e7954f",
   "metadata": {},
   "source": [
    "\n",
    "Some of the commands from 'Sololearn' app Python tutorial are shown here\n"
   ]
  },
  {
   "cell_type": "code",
   "execution_count": 1,
   "id": "e833182e",
   "metadata": {},
   "outputs": [],
   "source": [
    "import math"
   ]
  },
  {
   "cell_type": "markdown",
   "id": "0339be90",
   "metadata": {},
   "source": [
    "## Lists"
   ]
  },
  {
   "cell_type": "code",
   "execution_count": 2,
   "id": "66cb7003",
   "metadata": {},
   "outputs": [
    {
     "name": "stdout",
     "output_type": "stream",
     "text": [
      "3\n",
      "2\n",
      "3\n",
      "text\n"
     ]
    }
   ],
   "source": [
    "m1 = [1,2,3]\n",
    "m2 = ['a', 'b', 'c']\n",
    "m3 = [\n",
    "     [23,43,2],\n",
    "     [43,26,8]\n",
    "     ]\n",
    "\n",
    "\n",
    "#Arrays can be generated and accessed to as shown\n",
    "print(m1[2])\n",
    "print(m3[0][2])\n",
    "\n",
    "#A list can also be used this way, using strings and numbers\n",
    "things = [\"text\", 0, [1,2,3],4.44]\n",
    "print(things[2][2])\n",
    "print(things[0])"
   ]
  },
  {
   "cell_type": "code",
   "execution_count": 3,
   "id": "ac150ea0",
   "metadata": {},
   "outputs": [
    {
     "name": "stdout",
     "output_type": "stream",
     "text": [
      "e\n",
      "!\n"
     ]
    }
   ],
   "source": [
    "#Strings can also be used as a list\n",
    "hello = \"Hello World!\"\n",
    "print(hello[1]) \n",
    "print(hello[11])"
   ]
  },
  {
   "cell_type": "code",
   "execution_count": 4,
   "id": "4eab1771",
   "metadata": {},
   "outputs": [
    {
     "name": "stdout",
     "output_type": "stream",
     "text": [
      "[1, 2, 23, 4]\n",
      "[1, 2, 23, 4, 5, 6, 7]\n",
      "[1, 2, 23, 4, 1, 2, 23, 4]\n",
      "[1, 2, 23, 4, 55, 66, 77]\n"
     ]
    }
   ],
   "source": [
    "#Lists values can be reassigned \n",
    "nums = [1,2,3,4]\n",
    "nums[2] = 23 \n",
    "print(nums)\n",
    "print(nums + [5,6,7]) #Lists can be concatenated like strings \n",
    "print(2 * nums) #Lists can be multiplied by integers\n",
    "\n",
    "nums += [55, 66, 77] #Lists can also be concatenated like this\n",
    "print(nums)"
   ]
  },
  {
   "cell_type": "code",
   "execution_count": 5,
   "id": "83d47959",
   "metadata": {},
   "outputs": [
    {
     "name": "stdout",
     "output_type": "stream",
     "text": [
      "True\n",
      "False\n",
      "Yes Hello\n",
      "No tomate\n"
     ]
    }
   ],
   "source": [
    "#in operator can be used to search for an element in a list\n",
    "words = ['spam', 'tomato']\n",
    "print('spam' in words)\n",
    "\n",
    "nums = [1,3]\n",
    "print(4 in nums)\n",
    "\n",
    "x = 'Hello World!'\n",
    "if \"Hello\" in x: \n",
    "    print(\"Yes Hello\") #To check if a string is or is not substring of another\n",
    "    if(not \"Tomate\" in x): \n",
    "        print(\"No tomate\")"
   ]
  },
  {
   "cell_type": "code",
   "execution_count": 6,
   "id": "d4ef8b1b",
   "metadata": {},
   "outputs": [
    {
     "name": "stdout",
     "output_type": "stream",
     "text": [
      "hello!\n",
      "world!\n",
      "spam!\n",
      "1!\n",
      "eggs!\n"
     ]
    }
   ],
   "source": [
    "words = [\"hello\", 'world', 'spam', 1 , 'eggs']\n",
    "for x in words: #A loop can be used this way\n",
    "    print(str(x) + '!') \n",
    "    "
   ]
  },
  {
   "cell_type": "code",
   "execution_count": 7,
   "id": "719cd5b5",
   "metadata": {},
   "outputs": [
    {
     "name": "stdout",
     "output_type": "stream",
     "text": [
      "2\n"
     ]
    }
   ],
   "source": [
    "string = \"testing for loops\"\n",
    "count = 0\n",
    "\n",
    "for x in string: #A loop can be used to iterate over a string to find a letter \n",
    "    if(x == 't'): \n",
    "        count += 1 \n",
    "print(count) "
   ]
  },
  {
   "cell_type": "code",
   "execution_count": 8,
   "id": "418b1131",
   "metadata": {},
   "outputs": [
    {
     "name": "stdout",
     "output_type": "stream",
     "text": [
      "1\n"
     ]
    }
   ],
   "source": [
    "#We could search for a word if the string is defined as string = [\"testing\", \"for\", \"loops\"]\n",
    "string = [\"testing\", \"for\", \"loops\"]\n",
    "count = 0\n",
    "\n",
    "for x in string: \n",
    "    if(x == 'for'): \n",
    "        count += 1 \n",
    "print(count) "
   ]
  },
  {
   "cell_type": "code",
   "execution_count": 9,
   "id": "2cdd1469",
   "metadata": {},
   "outputs": [
    {
     "name": "stdout",
     "output_type": "stream",
     "text": [
      "923\n",
      "923\n"
     ]
    }
   ],
   "source": [
    "#Program to compute the sum of certain numbers\n",
    "x = [21, 432, 2, 32, 343, 3, 87, 3]\n",
    "suma = 0\n",
    "for y in x: \n",
    "    suma += y\n",
    "    \n",
    "print(suma)\n",
    "\n",
    "#This is another way to do it\n",
    "suma = 0\n",
    "suma = sum(digit for digit in x) \n",
    "print(suma)"
   ]
  },
  {
   "cell_type": "code",
   "execution_count": 10,
   "id": "bc2e2939",
   "metadata": {},
   "outputs": [
    {
     "name": "stdout",
     "output_type": "stream",
     "text": [
      "range(0, 10)\n",
      "[0, 1, 2, 3, 4, 5, 6, 7, 8, 9]\n",
      "[1, 3, 5, 7, 9, 11, 13]\n",
      "[13, 11]\n"
     ]
    }
   ],
   "source": [
    "numbers = range(10) #range creates a sequence\n",
    "print(numbers)\n",
    "\n",
    "numbers = list(range(10)) #to convert it in a list\n",
    "print(numbers)\n",
    "\n",
    "numbers = list(range(1, 14, 2)) #from the first to the second in steps of the third\n",
    "print(numbers)\n",
    "\n",
    "numbers = list(range(13, 9, -2)) #inverting the order\n",
    "print(numbers)"
   ]
  },
  {
   "cell_type": "code",
   "execution_count": 11,
   "id": "aa162346",
   "metadata": {
    "scrolled": true
   },
   "outputs": [
    {
     "name": "stdout",
     "output_type": "stream",
     "text": [
      "hello 5\n",
      "hello 9\n",
      "hello 13\n",
      "hello 17\n",
      "hello 21\n"
     ]
    }
   ],
   "source": [
    "for i in range(5, 25, 4): #range can be used in in loops\n",
    "    print('hello ' + str(i))"
   ]
  },
  {
   "cell_type": "code",
   "execution_count": 12,
   "id": "1fe17885",
   "metadata": {},
   "outputs": [
    {
     "name": "stdout",
     "output_type": "stream",
     "text": [
      "[1, 2, 3, 4, 5, 6, 7, 8, 9, 10]\n"
     ]
    }
   ],
   "source": [
    "a = 1 #int(input())\n",
    "b = 10 #int(input())\n",
    "\n",
    "print(list(i for i in range(a,b+1))) #prints a list given two numbers"
   ]
  },
  {
   "cell_type": "code",
   "execution_count": 13,
   "id": "08ffdaec",
   "metadata": {},
   "outputs": [
    {
     "name": "stdout",
     "output_type": "stream",
     "text": [
      "[23, 32]\n",
      "[1, 43, 23]\n",
      "[65, 76, 324, 99, 54, 5, 8]\n",
      "[1, 23, 65, 324, 54]\n",
      "[43, 23, 32, 65, 76, 324, 99]\n",
      "[54, 65]\n"
     ]
    }
   ],
   "source": [
    "squares = [1, 43, 23, 32, 65, 76, 324, 99, 54, 5, 8] \n",
    "print(squares[2:4]) #list slices to print a part of the list\n",
    "print(squares[:3]) #first three\n",
    "print(squares[4:]) #from the 4 position to the last\n",
    "print(squares[0:10:2]) #third index is the step\n",
    "print(squares[1:-3]) #negative in a normal index ignore the last values\n",
    "print(squares[8:0:-4]) #negative ignores the values of the step"
   ]
  },
  {
   "cell_type": "code",
   "execution_count": 14,
   "id": "2473ec0c",
   "metadata": {},
   "outputs": [
    {
     "name": "stdout",
     "output_type": "stream",
     "text": [
      "[56, 17, 87, 54, 3, 2]\n",
      "Hello Python\n",
      "n\n",
      "n\n"
     ]
    }
   ],
   "source": [
    "nums = [2, 3, 54, 87, 17, 56]\n",
    "rev = nums[::-1] #[::-1] is used to invert a list\n",
    "print(rev)\n",
    "\n",
    "s = list(str(input()))\n",
    "revs = s[::-1]\n",
    "print(revs[0]) #last character of a string\n",
    "\n",
    "print(s[-1]) #shorter way to proceed"
   ]
  },
  {
   "cell_type": "code",
   "execution_count": 15,
   "id": "c02c4d49",
   "metadata": {},
   "outputs": [
    {
     "name": "stdout",
     "output_type": "stream",
     "text": [
      "['e', 'l', 'l']\n",
      "5\n",
      "8\n"
     ]
    }
   ],
   "source": [
    "names = list('hello') #string as a list\n",
    "print(names[1:-1])\n",
    "\n",
    "list1 = [1, 1, 2, 3, 5, 8, 13]\n",
    "print(list1[4])\n",
    "print(list1[list1[4]]) #printing the list position"
   ]
  },
  {
   "cell_type": "code",
   "execution_count": 16,
   "id": "902f2fbc",
   "metadata": {},
   "outputs": [
    {
     "name": "stdout",
     "output_type": "stream",
     "text": [
      "2\n",
      "4\n",
      "6\n",
      "8\n",
      "10\n"
     ]
    }
   ],
   "source": [
    "#practice exercise\n",
    "for i in range(10):\n",
    "    if not i % 2 == 0:\n",
    "        print(i + 1)"
   ]
  },
  {
   "cell_type": "code",
   "execution_count": 17,
   "id": "e0463b17",
   "metadata": {},
   "outputs": [
    {
     "name": "stdout",
     "output_type": "stream",
     "text": [
      "Practice\n",
      "Pra\n"
     ]
    }
   ],
   "source": [
    "#practice exercise\n",
    "x = input()\n",
    "print(x[0:3])"
   ]
  },
  {
   "cell_type": "code",
   "execution_count": 18,
   "id": "b5b581e3",
   "metadata": {},
   "outputs": [
    {
     "name": "stdout",
     "output_type": "stream",
     "text": [
      "13\n"
     ]
    }
   ],
   "source": [
    "#practice exercise\n",
    "x = [6, 4, 2, 9]\n",
    "x = x[::-1]\n",
    "print(x[0] + x[2])"
   ]
  },
  {
   "cell_type": "code",
   "execution_count": 19,
   "id": "05d47cda",
   "metadata": {},
   "outputs": [
    {
     "name": "stdout",
     "output_type": "stream",
     "text": [
      "10\n",
      "55\n"
     ]
    }
   ],
   "source": [
    "#sum of N numbers given N\n",
    "N = int(input())\n",
    "nums = list(range(N+1)) #suma de N numeros dado N\n",
    "sum1 = 0\n",
    "for i in nums:\n",
    "    sum1 += i\n",
    "    \n",
    "print(sum1)"
   ]
  }
 ],
 "metadata": {
  "kernelspec": {
   "display_name": "Python 3 (ipykernel)",
   "language": "python",
   "name": "python3"
  },
  "language_info": {
   "codemirror_mode": {
    "name": "ipython",
    "version": 3
   },
   "file_extension": ".py",
   "mimetype": "text/x-python",
   "name": "python",
   "nbconvert_exporter": "python",
   "pygments_lexer": "ipython3",
   "version": "3.9.7"
  }
 },
 "nbformat": 4,
 "nbformat_minor": 5
}
